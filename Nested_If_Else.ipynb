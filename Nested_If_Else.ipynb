{
  "nbformat": 4,
  "nbformat_minor": 0,
  "metadata": {
    "colab": {
      "provenance": [],
      "authorship_tag": "ABX9TyMjLVnkn+lKoJuLyClYcxZS",
      "include_colab_link": true
    },
    "kernelspec": {
      "name": "python3",
      "display_name": "Python 3"
    },
    "language_info": {
      "name": "python"
    }
  },
  "cells": [
    {
      "cell_type": "markdown",
      "metadata": {
        "id": "view-in-github",
        "colab_type": "text"
      },
      "source": [
        "<a href=\"https://colab.research.google.com/github/Eilwyn/CPE-21A-PLD-1-2/blob/main/Nested_If_Else.ipynb\" target=\"_parent\"><img src=\"https://colab.research.google.com/assets/colab-badge.svg\" alt=\"Open In Colab\"/></a>"
      ]
    },
    {
      "cell_type": "markdown",
      "source": [
        "Nested If"
      ],
      "metadata": {
        "id": "5JxXH7iWXtL2"
      }
    },
    {
      "cell_type": "code",
      "execution_count": 10,
      "metadata": {
        "colab": {
          "base_uri": "https://localhost:8080/"
        },
        "id": "xHGI2vBAXsZs",
        "outputId": "46968144-96ea-4d04-bdf6-47a8fd4bd2db"
      },
      "outputs": [
        {
          "output_type": "stream",
          "name": "stdout",
          "text": [
            "Enter A Number\n",
            "51\n",
            "above ten\n",
            "above twenty\n",
            "above thirty\n",
            "above forty\n",
            "above fifty\n"
          ]
        }
      ],
      "source": [
        "print(\"Enter A Number\")\n",
        "x = int(input())\n",
        "if x>10:\n",
        "    print(\"above ten\")\n",
        "    if x>20:\n",
        "      print(\"above twenty\")\n",
        "    else:\n",
        "      print(\"below twenty\")\n",
        "    if x>30:\n",
        "      print(\"above thirty\")\n",
        "    else:\n",
        "      print(\"below thirty\")\n",
        "    if x>40:\n",
        "      print(\"above forty\")\n",
        "    else:\n",
        "      print(\"below forty\")\n",
        "    if x>50:\n",
        "      print(\"above fifty\")\n",
        "    else:\n",
        "      print(\"below fifty\")\n",
        "else:\n",
        "    print(\"not above ten\")\n"
      ]
    },
    {
      "cell_type": "code",
      "source": [
        "x=41\n",
        "if x>10:\n",
        "    print(\"above ten\")\n",
        "    if x>20:\n",
        "      print(\"above twenty\")\n",
        "    else:\n",
        "      print(\"below twenty\")\n",
        "    if x>30:\n",
        "      print(\"above thirty\")\n",
        "    else:\n",
        "      print(\"below thirty\")\n",
        "    if x>40:\n",
        "      print(\"above forty\")\n",
        "    else:\n",
        "      print(\"below forty\")\n",
        "    if x>50:\n",
        "      print(\"above fifty\")\n",
        "    else:\n",
        "      print(\"below fifty\")\n",
        "else:\n",
        "    print(\"not above ten\")\n"
      ],
      "metadata": {
        "colab": {
          "base_uri": "https://localhost:8080/"
        },
        "id": "ym0rshHYenZD",
        "outputId": "797be6d6-bc06-4d76-e105-9ea1aa25e97c"
      },
      "execution_count": 11,
      "outputs": [
        {
          "output_type": "stream",
          "name": "stdout",
          "text": [
            "above ten\n",
            "above twenty\n",
            "above thirty\n",
            "above forty\n",
            "below fifty\n"
          ]
        }
      ]
    }
  ]
}