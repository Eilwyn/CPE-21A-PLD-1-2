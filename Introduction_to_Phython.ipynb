{
  "nbformat": 4,
  "nbformat_minor": 0,
  "metadata": {
    "colab": {
      "provenance": [],
      "collapsed_sections": [],
      "authorship_tag": "ABX9TyMLfbIsvyhTdMMAD8AUoUv3",
      "include_colab_link": true
    },
    "kernelspec": {
      "name": "python3",
      "display_name": "Python 3"
    },
    "language_info": {
      "name": "python"
    }
  },
  "cells": [
    {
      "cell_type": "markdown",
      "metadata": {
        "id": "view-in-github",
        "colab_type": "text"
      },
      "source": [
        "<a href=\"https://colab.research.google.com/github/Eilwyn/CPE-21A-PLD-1-2/blob/main/Introduction_to_Phython.ipynb\" target=\"_parent\"><img src=\"https://colab.research.google.com/assets/colab-badge.svg\" alt=\"Open In Colab\"/></a>"
      ]
    },
    {
      "cell_type": "markdown",
      "source": [
        "#Indentation"
      ],
      "metadata": {
        "id": "hMrdPJWtUJHt"
      }
    },
    {
      "cell_type": "code",
      "source": [
        "if 5>2:\n",
        "  print(\"5 is greater than 2\")  #This is a comment"
      ],
      "metadata": {
        "colab": {
          "base_uri": "https://localhost:8080/"
        },
        "id": "Xc9QTmGCUOlw",
        "outputId": "d4e20ffc-b469-4910-f6e2-bb18bbb5e416"
      },
      "execution_count": 1,
      "outputs": [
        {
          "output_type": "stream",
          "name": "stdout",
          "text": [
            "5 is greater than 2\n"
          ]
        }
      ]
    },
    {
      "cell_type": "markdown",
      "source": [
        "Variable Declaration"
      ],
      "metadata": {
        "id": "Sg_S3FAgVCzn"
      }
    },
    {
      "cell_type": "code",
      "source": [
        "#variable with a single value\n",
        "\n",
        "x=5\n",
        "y=2\n",
        "if x >y:\n",
        "  print(\"x is greater than y\")\n",
        "else:\n",
        "  print(\"y is greater than x\")\n",
        "\n",
        "\n",
        "#variable with multiple values\n",
        "\n",
        "a,b = 1,2\n",
        "print(\"The value of a is:\",a)\n",
        "print(\"The value of b is:\",b)\n",
        "\n",
        "#mutiple variables with single values\n",
        "\n",
        "p = q = r = 'Eilwyn'\n",
        "print(p)\n",
        "print(q)\n",
        "print(r)"
      ],
      "metadata": {
        "colab": {
          "base_uri": "https://localhost:8080/"
        },
        "id": "4__UGdQVVIH5",
        "outputId": "6b5a72f8-71e8-4f84-dbfd-2fbad7ab7911"
      },
      "execution_count": 21,
      "outputs": [
        {
          "output_type": "stream",
          "name": "stdout",
          "text": [
            "x is greater than y\n",
            "The value of a is: 1\n",
            "The value of b is: 2\n",
            "Eilwyn\n",
            "Eilwyn\n",
            "Eilwyn\n"
          ]
        }
      ]
    },
    {
      "cell_type": "markdown",
      "source": [
        "#Casting and Type() Function"
      ],
      "metadata": {
        "id": "nUPxATVdWuCG"
      }
    },
    {
      "cell_type": "code",
      "source": [
        "f = int(4)    #integer\n",
        "g=float(4)    #decimal/fractional\n",
        "\n",
        "print(f)\n",
        "print(g)\n",
        "\n",
        "print(type(f))\n",
        "print(type(g))"
      ],
      "metadata": {
        "colab": {
          "base_uri": "https://localhost:8080/"
        },
        "id": "4zuHi5JOW1AH",
        "outputId": "e97f6be7-7ee6-4c71-a4c1-de87e788ebca"
      },
      "execution_count": 9,
      "outputs": [
        {
          "output_type": "stream",
          "name": "stdout",
          "text": [
            "4\n",
            "4.0\n",
            "<class 'int'>\n",
            "<class 'float'>\n"
          ]
        }
      ]
    },
    {
      "cell_type": "markdown",
      "source": [
        "Double Quote or Single Quote"
      ],
      "metadata": {
        "id": "x7PxGceCXbox"
      }
    },
    {
      "cell_type": "code",
      "source": [
        "name = \"Eilwyn\"\n",
        "name1 = 'Lorenz'\n",
        "\n",
        "print(name)\n",
        "print(name1)"
      ],
      "metadata": {
        "colab": {
          "base_uri": "https://localhost:8080/"
        },
        "id": "QEsku0bkXe7z",
        "outputId": "4e726309-9578-4f44-f020-6e134c1df5ab"
      },
      "execution_count": 13,
      "outputs": [
        {
          "output_type": "stream",
          "name": "stdout",
          "text": [
            "Eilwyn\n",
            "Lorenz\n"
          ]
        }
      ]
    },
    {
      "cell_type": "markdown",
      "source": [
        "Case Sensitive"
      ],
      "metadata": {
        "id": "wAD97_1YX5HR"
      }
    },
    {
      "cell_type": "code",
      "source": [
        "a = 'Ana'\n",
        "A = 4\n",
        "\n",
        "print(a)\n",
        "print(A)"
      ],
      "metadata": {
        "colab": {
          "base_uri": "https://localhost:8080/"
        },
        "id": "koEi5OsiX7NG",
        "outputId": "0c4fed2b-fedf-463a-b8d4-08acbfdd020b"
      },
      "execution_count": 18,
      "outputs": [
        {
          "output_type": "stream",
          "name": "stdout",
          "text": [
            "Ana\n",
            "4\n"
          ]
        }
      ]
    },
    {
      "cell_type": "markdown",
      "source": [
        "Output Variable"
      ],
      "metadata": {
        "id": "RlRrGLmXYqsh"
      }
    },
    {
      "cell_type": "code",
      "source": [
        "o = 'enjoying'\n",
        "print(\"Python programming is\"+\" \"+o)      #append enjoying\n",
        "\n",
        "t = \"Python\"\n",
        "u = \"is enjoying\"\n",
        "v = t + \" \" + u\n",
        "print(v)"
      ],
      "metadata": {
        "colab": {
          "base_uri": "https://localhost:8080/"
        },
        "id": "B23uDzM_Ytmz",
        "outputId": "a8fbd386-641b-46b8-ae60-59ad9ef92bec"
      },
      "execution_count": 32,
      "outputs": [
        {
          "output_type": "stream",
          "name": "stdout",
          "text": [
            "Python programming is enjoying\n",
            "Python is enjoying\n"
          ]
        }
      ]
    }
  ]
}