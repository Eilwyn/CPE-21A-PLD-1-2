{
  "nbformat": 4,
  "nbformat_minor": 0,
  "metadata": {
    "colab": {
      "provenance": [],
      "toc_visible": true,
      "authorship_tag": "ABX9TyMb+YjEKiEQYcsbZZsnITW3",
      "include_colab_link": true
    },
    "kernelspec": {
      "name": "python3",
      "display_name": "Python 3"
    },
    "language_info": {
      "name": "python"
    }
  },
  "cells": [
    {
      "cell_type": "markdown",
      "metadata": {
        "id": "view-in-github",
        "colab_type": "text"
      },
      "source": [
        "<a href=\"https://colab.research.google.com/github/Eilwyn/CPE-21A-PLD-1-2/blob/main/Parent_and_child_class.ipynb\" target=\"_parent\"><img src=\"https://colab.research.google.com/assets/colab-badge.svg\" alt=\"Open In Colab\"/></a>"
      ]
    },
    {
      "cell_type": "markdown",
      "source": [
        "Use Shape as parent class, Rectangle as child class with length and width."
      ],
      "metadata": {
        "id": "Ol2iJ-xmWp2s"
      }
    },
    {
      "cell_type": "code",
      "source": [
        "class Shape:\n",
        "    def __init__(Shape,length,width):\n",
        "      Shape.length = length\n",
        "      Shape.width = width\n",
        "\n",
        "class Rectangle(Shape):\n",
        "  pass\n",
        "\n",
        "rectangle = Rectangle(10,20)\n",
        "\n",
        "print(\"The length of the Rectangle is\",rectangle.length)\n",
        "print(\"The width of the Rectangle is\",rectangle.width)"
      ],
      "metadata": {
        "colab": {
          "base_uri": "https://localhost:8080/"
        },
        "id": "6ysSnO09Wpbf",
        "outputId": "b9a8a736-8143-4bce-d3f7-3886a9b2d4e5"
      },
      "execution_count": 2,
      "outputs": [
        {
          "output_type": "stream",
          "name": "stdout",
          "text": [
            "The length of the Rectangle is 10\n",
            "The width of the Rectangle is 20\n"
          ]
        }
      ]
    },
    {
      "cell_type": "markdown",
      "source": [
        "Use Perimeter and Area as methods to compute for the lenght and width attributes perimeter and area of the rectangle."
      ],
      "metadata": {
        "id": "MLDCnR-aXeWx"
      }
    },
    {
      "cell_type": "code",
      "source": [
        "class shape:\n",
        "  def __init__(Ssape,length,width):\n",
        "    shape.length = length\n",
        "    shape.width = width\n",
        "\n",
        "  def area(shape):\n",
        "    return rectangle.length*rectangle.width\n",
        "\n",
        "  def perimeter(shape):\n",
        "    return (rectangle.length+rectangle.width)*2\n",
        "\n",
        "class rectangle(shape):\n",
        "  pass\n",
        "\n",
        "rectangle = rectangle(10,20)\n",
        "\n",
        "print(rectangle.area())\n",
        "print(rectangle.perimeter())"
      ],
      "metadata": {
        "colab": {
          "base_uri": "https://localhost:8080/"
        },
        "id": "zeaG1glLXeCd",
        "outputId": "0afaf9b7-5556-4999-e597-00d02ff8e5ec"
      },
      "execution_count": 7,
      "outputs": [
        {
          "output_type": "stream",
          "name": "stdout",
          "text": [
            "200\n",
            "60\n"
          ]
        }
      ]
    }
  ]
}